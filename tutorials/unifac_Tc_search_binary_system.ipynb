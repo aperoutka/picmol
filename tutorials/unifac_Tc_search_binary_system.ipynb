{
 "cells": [
  {
   "cell_type": "code",
   "execution_count": 1,
   "metadata": {},
   "outputs": [],
   "source": [
    "import sys\n",
    "sys.path.append('/Users/b324115/Library/CloudStorage/Box-Box/critical_phenomena_saxs/allisons_data')\n",
    "\n",
    "import pandas as pd\n",
    "from picmol.thermo_model import Tc_search"
   ]
  },
  {
   "cell_type": "code",
   "execution_count": 2,
   "metadata": {},
   "outputs": [
    {
     "data": {
      "text/plain": [
       "array(['DOHE', 'DBTD', 'DBP', 'TODGA', 'T2EHDGA', 'ADAAMEH', 'HEXANE',\n",
       "       'HEPTANE', 'OCTANE', 'DECANE', 'DODECANE', 'TETRADECANE',\n",
       "       'CYCLOHEXANE', 'H2O', 'METHANOL', 'ETHANOL', 'PROPANOL', 'BUTANOL',\n",
       "       'HEXANOL', 'OCTANOL', 'TOLUENE', 'BENZENE', '[EMIM][TFSI]',\n",
       "       '[BMIM][TFSI]', '[HMIM][TFSI]', '[OMIM][TFSI]', '[EBPIP][TFSI]',\n",
       "       '[EMIM][CL]', '[BMIM][CL]', '[HMIM][CL]', '[OMIM][CL]',\n",
       "       '[EMIM][PF6]', '[BMIM][PF6]', '[HMIM][PF6]', '[OMIM][PF6]',\n",
       "       '[EMIM][BF4]', '[BMIM][BF4]', '[HMIM][BF4]', '[OMIM][BF4]',\n",
       "       '[EMIM][NO3]', '[BMIM][NO3]', '[HMIM][NO3]', '[OMIM][NO3]',\n",
       "       '[EPY][TFSI]', '[BPY][TFSI]', '[HPY][TFSI]', '[OPY][TFSI]',\n",
       "       '[EMPIP][TFSI]', '[BMPIP][TFSI]', '[HMPIP][TFSI]', '[OMPIP][TFSI]',\n",
       "       '[EMPYR][TFSI]', '[BMPYR][TFSI]', '[HMPYR][TFSI]', '[OMPYR][TFSI]'],\n",
       "      dtype=object)"
      ]
     },
     "execution_count": 2,
     "metadata": {},
     "output_type": "execute_result"
    }
   ],
   "source": [
    "molec_info = pd.read_csv('../data/molecular_properties.csv')\n",
    "molec_info['mol_name'].to_numpy()"
   ]
  },
  {
   "cell_type": "code",
   "execution_count": 3,
   "metadata": {},
   "outputs": [
    {
     "data": {
      "text/plain": [
       "['CCCCCCCCN(C)C(=O)C(C(=O)N(C)CCCCCCCC)CCOCCCCCC', 'CCCCCCC']"
      ]
     },
     "execution_count": 3,
     "metadata": {},
     "output_type": "execute_result"
    }
   ],
   "source": [
    "mols = ['DOHE', 'heptane']\n",
    "\n",
    "mols_upper = [mol.upper() for mol in mols]\n",
    "smiles = molec_info.set_index('mol_name').loc[mols_upper,:]['smiles'].tolist()\n",
    "smiles"
   ]
  },
  {
   "cell_type": "code",
   "execution_count": 4,
   "metadata": {},
   "outputs": [
    {
     "data": {
      "text/plain": [
       "321"
      ]
     },
     "execution_count": 4,
     "metadata": {},
     "output_type": "execute_result"
    }
   ],
   "source": [
    "# assumes UCST behavior, starts at max T and decreases T until it finds spinodals\n",
    "\n",
    "Tc_search(Tmax=500, smiles=smiles, lle_type=\"ucst\")"
   ]
  },
  {
   "cell_type": "code",
   "execution_count": 5,
   "metadata": {},
   "outputs": [
    {
     "data": {
      "text/plain": [
       "['CCCCCCCCN(C)C(=O)C(C(=O)N(C)CCCCCCCC)CCOCCCCCC', 'CCCCn1cc[n+](C)c1.[Cl-]']"
      ]
     },
     "execution_count": 5,
     "metadata": {},
     "output_type": "execute_result"
    }
   ],
   "source": [
    "mols = ['DOHE', '[bmim][cl]']\n",
    "\n",
    "mols_upper = [mol.upper() for mol in mols]\n",
    "smiles = molec_info.set_index('mol_name').loc[mols_upper,:]['smiles'].tolist()\n",
    "smiles"
   ]
  },
  {
   "cell_type": "code",
   "execution_count": 6,
   "metadata": {},
   "outputs": [
    {
     "data": {
      "text/plain": [
       "nan"
      ]
     },
     "execution_count": 6,
     "metadata": {},
     "output_type": "execute_result"
    }
   ],
   "source": [
    "# lle_type = None ==> iterates through all T and finds T with smallest difference in spinodals\n",
    "\n",
    "Tc_search(Tmin=400, Tmax=800, dT=5, smiles=smiles, lle_type=None)"
   ]
  },
  {
   "cell_type": "code",
   "execution_count": null,
   "metadata": {},
   "outputs": [],
   "source": []
  }
 ],
 "metadata": {
  "kernelspec": {
   "display_name": "moldesign",
   "language": "python",
   "name": "python3"
  },
  "language_info": {
   "codemirror_mode": {
    "name": "ipython",
    "version": 3
   },
   "file_extension": ".py",
   "mimetype": "text/x-python",
   "name": "python",
   "nbconvert_exporter": "python",
   "pygments_lexer": "ipython3",
   "version": "3.9.21"
  }
 },
 "nbformat": 4,
 "nbformat_minor": 2
}
