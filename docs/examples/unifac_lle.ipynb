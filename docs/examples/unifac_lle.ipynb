{
 "cells": [
  {
   "cell_type": "code",
   "execution_count": 1,
   "id": "24841695",
   "metadata": {},
   "outputs": [],
   "source": [
    "import numpy as np\n",
    "import pandas as pd\n",
    "\n",
    "from picmol import UNIFACThermoModel, load_molecular_properties, PhaseDiagramPlotter"
   ]
  },
  {
   "cell_type": "code",
   "execution_count": 2,
   "id": "75cc55a0",
   "metadata": {},
   "outputs": [
    {
     "data": {
      "application/vnd.microsoft.datawrangler.viewer.v0+json": {
       "columns": [
        {
         "name": "mol_id",
         "rawType": "object",
         "type": "string"
        },
        {
         "name": "mol_name",
         "rawType": "object",
         "type": "string"
        },
        {
         "name": "mol_wt",
         "rawType": "float64",
         "type": "float"
        },
        {
         "name": "density",
         "rawType": "float64",
         "type": "float"
        },
        {
         "name": "molarity",
         "rawType": "float64",
         "type": "float"
        },
        {
         "name": "molar_vol",
         "rawType": "float64",
         "type": "float"
        },
        {
         "name": "n_electrons",
         "rawType": "int64",
         "type": "integer"
        },
        {
         "name": "mol_charge",
         "rawType": "int64",
         "type": "integer"
        },
        {
         "name": "mol_class",
         "rawType": "object",
         "type": "string"
        },
        {
         "name": "smiles",
         "rawType": "object",
         "type": "string"
        }
       ],
       "conversionMethod": "pd.DataFrame",
       "ref": "3f5a0c1b-45e4-4436-9419-bf8f84a4911d",
       "rows": [
        [
         "ADAAM",
         "ADAAMEH",
         "692.19",
         "0.895",
         "1.293",
         "773.39",
         "390",
         "0",
         "extractant",
         "CCCCC(CC)CN(CC(CC)CCCC)C(=O)CN(CC(CC)CCCC)CC(=O)N(CC(CC)CCCC)CC(CC)CCCC"
        ],
        [
         "DMDBP",
         "DBP",
         "312.19",
         "0.935",
         "2.994",
         "333.89",
         "182",
         "0",
         "extractant",
         "CCCCN(C)C(=O)C(C(=O)N(C)CCCC)CCCCC"
        ],
        [
         "THMA",
         "THMA",
         "438.741",
         "0.889",
         "2.027",
         "493.416",
         "246",
         "0",
         "extractant",
         "CCCCCCN(CCCCCC)C(=O)C(C(=O)N(CCCCCC)CCCCCC)"
        ],
        [
         "DMDBT",
         "DBTD",
         "438.82",
         "0.908",
         "2.069",
         "483.28",
         "246",
         "0",
         "extractant",
         "CCCCN(C)C(=O)C(C(=O)N(C)CCCC)CCCCCCCCCCCCCC"
        ],
        [
         "DMDOH",
         "DOHE",
         "482.88",
         "0.927",
         "1.919",
         "520.91",
         "270",
         "0",
         "extractant",
         "CCCCCCCCN(C)C(=O)C(C(=O)N(C)CCCCCCCC)CCOCCCCCC"
        ]
       ],
       "shape": {
        "columns": 9,
        "rows": 5
       }
      },
      "text/html": [
       "<div>\n",
       "<style scoped>\n",
       "    .dataframe tbody tr th:only-of-type {\n",
       "        vertical-align: middle;\n",
       "    }\n",
       "\n",
       "    .dataframe tbody tr th {\n",
       "        vertical-align: top;\n",
       "    }\n",
       "\n",
       "    .dataframe thead th {\n",
       "        text-align: right;\n",
       "    }\n",
       "</style>\n",
       "<table border=\"1\" class=\"dataframe\">\n",
       "  <thead>\n",
       "    <tr style=\"text-align: right;\">\n",
       "      <th></th>\n",
       "      <th>mol_name</th>\n",
       "      <th>mol_wt</th>\n",
       "      <th>density</th>\n",
       "      <th>molarity</th>\n",
       "      <th>molar_vol</th>\n",
       "      <th>n_electrons</th>\n",
       "      <th>mol_charge</th>\n",
       "      <th>mol_class</th>\n",
       "      <th>smiles</th>\n",
       "    </tr>\n",
       "    <tr>\n",
       "      <th>mol_id</th>\n",
       "      <th></th>\n",
       "      <th></th>\n",
       "      <th></th>\n",
       "      <th></th>\n",
       "      <th></th>\n",
       "      <th></th>\n",
       "      <th></th>\n",
       "      <th></th>\n",
       "      <th></th>\n",
       "    </tr>\n",
       "  </thead>\n",
       "  <tbody>\n",
       "    <tr>\n",
       "      <th>ADAAM</th>\n",
       "      <td>ADAAMEH</td>\n",
       "      <td>692.190</td>\n",
       "      <td>0.895</td>\n",
       "      <td>1.293</td>\n",
       "      <td>773.390</td>\n",
       "      <td>390</td>\n",
       "      <td>0</td>\n",
       "      <td>extractant</td>\n",
       "      <td>CCCCC(CC)CN(CC(CC)CCCC)C(=O)CN(CC(CC)CCCC)CC(=...</td>\n",
       "    </tr>\n",
       "    <tr>\n",
       "      <th>DMDBP</th>\n",
       "      <td>DBP</td>\n",
       "      <td>312.190</td>\n",
       "      <td>0.935</td>\n",
       "      <td>2.994</td>\n",
       "      <td>333.890</td>\n",
       "      <td>182</td>\n",
       "      <td>0</td>\n",
       "      <td>extractant</td>\n",
       "      <td>CCCCN(C)C(=O)C(C(=O)N(C)CCCC)CCCCC</td>\n",
       "    </tr>\n",
       "    <tr>\n",
       "      <th>THMA</th>\n",
       "      <td>THMA</td>\n",
       "      <td>438.741</td>\n",
       "      <td>0.889</td>\n",
       "      <td>2.027</td>\n",
       "      <td>493.416</td>\n",
       "      <td>246</td>\n",
       "      <td>0</td>\n",
       "      <td>extractant</td>\n",
       "      <td>CCCCCCN(CCCCCC)C(=O)C(C(=O)N(CCCCCC)CCCCCC)</td>\n",
       "    </tr>\n",
       "    <tr>\n",
       "      <th>DMDBT</th>\n",
       "      <td>DBTD</td>\n",
       "      <td>438.820</td>\n",
       "      <td>0.908</td>\n",
       "      <td>2.069</td>\n",
       "      <td>483.280</td>\n",
       "      <td>246</td>\n",
       "      <td>0</td>\n",
       "      <td>extractant</td>\n",
       "      <td>CCCCN(C)C(=O)C(C(=O)N(C)CCCC)CCCCCCCCCCCCCC</td>\n",
       "    </tr>\n",
       "    <tr>\n",
       "      <th>DMDOH</th>\n",
       "      <td>DOHE</td>\n",
       "      <td>482.880</td>\n",
       "      <td>0.927</td>\n",
       "      <td>1.919</td>\n",
       "      <td>520.910</td>\n",
       "      <td>270</td>\n",
       "      <td>0</td>\n",
       "      <td>extractant</td>\n",
       "      <td>CCCCCCCCN(C)C(=O)C(C(=O)N(C)CCCCCCCC)CCOCCCCCC</td>\n",
       "    </tr>\n",
       "  </tbody>\n",
       "</table>\n",
       "</div>"
      ],
      "text/plain": [
       "       mol_name   mol_wt  density  molarity  molar_vol  n_electrons  \\\n",
       "mol_id                                                                \n",
       "ADAAM   ADAAMEH  692.190    0.895     1.293    773.390          390   \n",
       "DMDBP       DBP  312.190    0.935     2.994    333.890          182   \n",
       "THMA       THMA  438.741    0.889     2.027    493.416          246   \n",
       "DMDBT      DBTD  438.820    0.908     2.069    483.280          246   \n",
       "DMDOH      DOHE  482.880    0.927     1.919    520.910          270   \n",
       "\n",
       "        mol_charge   mol_class  \\\n",
       "mol_id                           \n",
       "ADAAM            0  extractant   \n",
       "DMDBP            0  extractant   \n",
       "THMA             0  extractant   \n",
       "DMDBT            0  extractant   \n",
       "DMDOH            0  extractant   \n",
       "\n",
       "                                                   smiles  \n",
       "mol_id                                                     \n",
       "ADAAM   CCCCC(CC)CN(CC(CC)CCCC)C(=O)CN(CC(CC)CCCC)CC(=...  \n",
       "DMDBP                  CCCCN(C)C(=O)C(C(=O)N(C)CCCC)CCCCC  \n",
       "THMA          CCCCCCN(CCCCCC)C(=O)C(C(=O)N(CCCCCC)CCCCCC)  \n",
       "DMDBT         CCCCN(C)C(=O)C(C(=O)N(C)CCCC)CCCCCCCCCCCCCC  \n",
       "DMDOH      CCCCCCCCN(C)C(=O)C(C(=O)N(C)CCCCCCCC)CCOCCCCCC  "
      ]
     },
     "execution_count": 2,
     "metadata": {},
     "output_type": "execute_result"
    }
   ],
   "source": [
    "# retreive molecules in database\n",
    "mol_props = load_molecular_properties('mol_id')\n",
    "mol_props.head()"
   ]
  },
  {
   "cell_type": "code",
   "execution_count": 3,
   "id": "6285d35e",
   "metadata": {},
   "outputs": [
    {
     "data": {
      "text/plain": [
       "Index(['ADAAM', 'DMDBP', 'THMA', 'DMDBT', 'DMDOH', 'TEHDG', 'TODGA', 'BUTOL',\n",
       "       'ETHOL', 'HEXOL', 'METOL', 'OCTOL', 'PRPOL', 'TIP4P', 'BENZE', 'CYHEX',\n",
       "       'DECAN', 'NDODE', 'HEPTA', 'HEXAN', 'OCTAN', 'TDECA', 'TOLUE', 'ACENI',\n",
       "       'THF', 'PIPER', 'PYRID', 'CHLOR', 'NITRA', 'PERCL', 'BFTET', 'PFHEX',\n",
       "       'TFSI', 'Li', 'Na', 'K', 'Rb', 'Cs', 'Mg', 'Ca', 'Sr', 'Ba', 'La', 'Ce',\n",
       "       'Pr', 'Nd', 'Sm', 'Eu', 'Gd', 'Tb', 'Dy', 'Ho', 'Er', 'Tm', 'Yb', 'Lu',\n",
       "       'EMIM', 'PMIM', 'BMIM', 'HMIM', 'OMIM', 'DMIM', '[BMIM][BF4]',\n",
       "       '[BMIM][CL]', '[BMIM][NO3]', '[BMIM][PF6]', 'BMIM_TFSI',\n",
       "       '[BMPIP][TFSI]', '[BMPYR][TFSI]', '[BPY][TFSI]', '[EBPIP][TFSI]',\n",
       "       '[EMIM][BF4]', '[EMIM][CL]', '[EMIM][NO3]', '[EMIM][PF6]', 'EMIM_TFSI',\n",
       "       '[EMPIP][TFSI]', '[EMPYR][TFSI]', '[EPY][TFSI]', '[HMIM][BF4]',\n",
       "       '[HMIM][CL]', '[HMIM][NO3]', '[HMIM][PF6]', 'HMIM_TFSI',\n",
       "       '[HMPIP][TFSI]', '[HMPYR][TFSI]', '[HPY][TFSI]', '[OMIM][BF4]',\n",
       "       '[OMIM][CL]', '[OMIM][NO3]', '[OMIM][PF6]', 'OMIM_TFSI',\n",
       "       '[OMPIP][TFSI]', '[OMPYR][TFSI]', '[OPY][TFSI]'],\n",
       "      dtype='object', name='mol_id')"
      ]
     },
     "execution_count": 3,
     "metadata": {},
     "output_type": "execute_result"
    }
   ],
   "source": [
    "# get molecule names\n",
    "mol_props.index"
   ]
  },
  {
   "cell_type": "code",
   "execution_count": 13,
   "id": "e6f30a2e",
   "metadata": {},
   "outputs": [],
   "source": [
    "# specify each molecule in binary mixture\n",
    "solute = 'ethol'\n",
    "solvent = 'tip4p'\n",
    "\n",
    "# get molecules as they appear in dataset\n",
    "mols = [solute.upper() ,solvent.upper()]"
   ]
  },
  {
   "cell_type": "code",
   "execution_count": 14,
   "id": "ab01dfdc",
   "metadata": {},
   "outputs": [],
   "source": [
    "# initialize Unifac-thermo-model\n",
    "\n",
    "unif_model = UNIFACThermoModel(\n",
    "    identifiers=mols, identifier_type='mol_id', solute_mol=mols[0],\n",
    "    Tmin=100, Tmax=500, dT=5\n",
    ")"
   ]
  },
  {
   "cell_type": "code",
   "execution_count": 15,
   "id": "a6caaea7",
   "metadata": {},
   "outputs": [],
   "source": [
    "# run temperature scaling, thermodynamic model\n",
    "unif_model.run()"
   ]
  },
  {
   "cell_type": "code",
   "execution_count": 24,
   "id": "a982623e",
   "metadata": {},
   "outputs": [
    {
     "name": "stdout",
     "output_type": "stream",
     "text": [
      "Critical point: \n",
      "T_c: 130 K\n",
      "x_c: 0.118 ethanol\n",
      "phi_c: 0.302 ethanol\n"
     ]
    }
   ],
   "source": [
    "print('Critical point: ')\n",
    "print(f'T_c: {unif_model.Tc:.0f} K')\n",
    "print(f'x_c: {unif_model.xc:.3f} {unif_model.solute_name.lower()}')\n",
    "print(f'phi_c: {unif_model.phic:.3f} {unif_model.solute_name.lower()}')"
   ]
  },
  {
   "cell_type": "code",
   "execution_count": null,
   "id": "bcab0406",
   "metadata": {},
   "outputs": [],
   "source": []
  }
 ],
 "metadata": {
  "kernelspec": {
   "display_name": "picmol",
   "language": "python",
   "name": "python3"
  },
  "language_info": {
   "codemirror_mode": {
    "name": "ipython",
    "version": 3
   },
   "file_extension": ".py",
   "mimetype": "text/x-python",
   "name": "python",
   "nbconvert_exporter": "python",
   "pygments_lexer": "ipython3",
   "version": "3.10.16"
  }
 },
 "nbformat": 4,
 "nbformat_minor": 5
}
