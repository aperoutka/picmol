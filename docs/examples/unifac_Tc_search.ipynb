{
 "cells": [
  {
   "cell_type": "code",
   "execution_count": 1,
   "id": "b2dafc4e",
   "metadata": {},
   "outputs": [],
   "source": [
    "from picmol import Tc_search"
   ]
  },
  {
   "cell_type": "code",
   "execution_count": 3,
   "id": "8d4aeff0",
   "metadata": {},
   "outputs": [
    {
     "name": "stdout",
     "output_type": "stream",
     "text": [
      "Tc: 345 K\n"
     ]
    }
   ],
   "source": [
    "# for lle_type = 'ucst', Tmax required\n",
    "# for lle_type = 'lcst', Tmin required\n",
    "# for lle_type = None, Tmin, Tmax, dT required\n",
    "\n",
    "mol_1 = 'CCO' # ethanol\n",
    "mol_2 = 'CCCCCCC' # heptane\n",
    "\n",
    "Tc = Tc_search(\n",
    "    smiles = [mol_1, mol_2], \n",
    "    lle_type = 'ucst',  # options: 'lcst', 'ucst', None (default)\n",
    "    Tmax = 300,\n",
    "  )\n",
    "\n",
    "print(f'Tc: {Tc:.0f} K')"
   ]
  },
  {
   "cell_type": "code",
   "execution_count": null,
   "id": "4811af02",
   "metadata": {},
   "outputs": [],
   "source": []
  }
 ],
 "metadata": {
  "kernelspec": {
   "display_name": "picmol",
   "language": "python",
   "name": "python3"
  },
  "language_info": {
   "codemirror_mode": {
    "name": "ipython",
    "version": 3
   },
   "file_extension": ".py",
   "mimetype": "text/x-python",
   "name": "python",
   "nbconvert_exporter": "python",
   "pygments_lexer": "ipython3",
   "version": "3.10.16"
  }
 },
 "nbformat": 4,
 "nbformat_minor": 5
}
