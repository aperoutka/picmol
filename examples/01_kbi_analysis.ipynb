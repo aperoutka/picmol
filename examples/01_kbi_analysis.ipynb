{
 "cells": [
  {
   "cell_type": "code",
   "execution_count": 1,
   "id": "e1540caa",
   "metadata": {},
   "outputs": [],
   "source": [
    "import numpy as np\n",
    "import pandas as pd\n",
    "\n",
    "from picmol import KBI, KBIPlotter"
   ]
  },
  {
   "cell_type": "code",
   "execution_count": null,
   "id": "81addc3d",
   "metadata": {},
   "outputs": [],
   "source": [
    "prj_dir = '/path/to/mixture/directory/'\n",
    "pure_component_dir = '/path/to/pure/component/directory/'"
   ]
  },
  {
   "cell_type": "markdown",
   "id": "9a9b0d10",
   "metadata": {},
   "source": [
    "### Running KBI Analysis"
   ]
  },
  {
   "cell_type": "code",
   "execution_count": null,
   "id": "d3944d59",
   "metadata": {},
   "outputs": [],
   "source": [
    "from picmol import load_molecular_properties, add_molecule\n",
    "\n",
    "# first check that molecules are in picmol dataset\n",
    "mol_props = load_molecular_properties('mol_id')\n",
    "mol_props.index # check that molecular ids (name in .top file) are present"
   ]
  },
  {
   "cell_type": "code",
   "execution_count": null,
   "id": "1eeb149d",
   "metadata": {},
   "outputs": [],
   "source": [
    "# if molecule(s) are not there, then add them with add_molecule\n",
    "add_molecule(mol_name='fig/mol/name', mol_id='mol_id/from/.top', mol_class='solute/solvent/extractant/modifier/', smiles='smiles/str', density='g/mL/at/RT/if/known') # if density is not entered, it will be calculated from RDKit's molar volume estimation, and if provided it will be used to calculate experimental molar volume"
   ]
  },
  {
   "cell_type": "code",
   "execution_count": null,
   "id": "a7806817",
   "metadata": {},
   "outputs": [],
   "source": [
    "# check that molecules are now provided in dataset\n",
    "mol_props = load_molecular_properties('mol_id')\n",
    "mol_props.index "
   ]
  },
  {
   "cell_type": "code",
   "execution_count": null,
   "id": "d936b76f",
   "metadata": {},
   "outputs": [],
   "source": [
    "# initialize kbi class\n",
    "\n",
    "kbi_obj = KBI(\n",
    "  prj_path = prj_dir, # location for project to analyze\n",
    "  pure_component_path = pure_component_dir, # location of pure component directory\n",
    "  rdf_dir = 'rdf_files', # name for rdf file directory, must be same for all systems\n",
    "  kbi_method = 'adj', # which kbi correction method to use\n",
    "  rkbi_min = 0.75, # fraction of rdf to start at for thermo limit extrapolation\n",
    "  avg_start_time = 100, # when to start averaging properties in .edr file\n",
    "  solute_mol = '/enter/solute/mol_id/here/', # should be same name as in .top file\n",
    "  geom_mean_pairs = [], # if desired, enter list of list of molecule pair to use as geom means\n",
    ")"
   ]
  },
  {
   "cell_type": "code",
   "execution_count": null,
   "id": "072f0283",
   "metadata": {},
   "outputs": [],
   "source": [
    "# run the kbi analysis\n",
    "kbi_obj.run()"
   ]
  },
  {
   "cell_type": "code",
   "execution_count": null,
   "id": "515c7a98",
   "metadata": {},
   "outputs": [],
   "source": [
    "# first check extrapolation to the thermodynamic limit to make sure the appropriate range is found\n",
    "kbi_plotter = KBIPlotter(kbi_obj)\n",
    "kbi_plotter.make_figures()\n",
    "# if fit is not linear, change the 'rkbi_min' value & rerun analysis"
   ]
  },
  {
   "cell_type": "markdown",
   "id": "59fbfb23",
   "metadata": {},
   "source": [
    "### Evaluating different KBI correction functions"
   ]
  },
  {
   "cell_type": "code",
   "execution_count": null,
   "id": "15dd315f",
   "metadata": {},
   "outputs": [],
   "source": [
    "kbi_dict = {}\n",
    "kbi_methods = ['raw', 'adj', 'gv', 'kgv']\n",
    "for m, method in enumerate(kbi_methods):\n",
    "  # create kbi object for each method\n",
    "  kbi_obj = KBI(\n",
    "    prj_path = prj_dir, # location for project to analyze\n",
    "    pure_component_path = pure_component_dir, # location of pure component directory\n",
    "    rdf_dir = 'rdf_files', # name for rdf file directory, must be same for all systems\n",
    "    kbi_method = method, # which kbi correction method to use\n",
    "    rkbi_min = 0.75, # fraction of rdf to start at for thermo limit extrapolation\n",
    "    avg_start_time = 100, # when to start averaging properties in .edr file\n",
    "    solute_mol = '/enter/solute/mol_id/here/', # should be same name as in .top file\n",
    "    geom_mean_pairs = [], # if desired, enter list of list of molecule pair to use as geom means\n",
    "  )\n",
    "  # run kbi analysis\n",
    "  kbi_obj.run()\n",
    "\n",
    "  # add kbi_obj to dictionary\n",
    "  kbi_dict[method] = kbi_obj"
   ]
  },
  {
   "cell_type": "code",
   "execution_count": null,
   "id": "338cd75f",
   "metadata": {},
   "outputs": [],
   "source": [
    "import matplotlib.pyplot as plt\n",
    "%matplotlib inline\n",
    "\n",
    "def add_kbi_method_to_plot(method, axs):\n",
    "  kbi_obj = kbi_dict[method]\n",
    "  ij = 0\n",
    "  for i, mol_1 in enumerate(kbi_obj._top_unique_mols):\n",
    "    for j, mol_2 in enumerate(kbi_obj._top_unique_mols):\n",
    "      if i <= j:\n",
    "        axs.scatter(kbi_obj.z[:,kbi_obj.solute_loc], kbi_obj.df_kbi[f'G_{mol_1}_{mol_2}_cm3_mol'], c=colors[ij], marker='s', linewidth=1.8, label=f'{kbi_obj.mol_name_dict[mol_1]}-{kbi_obj.mol_name_dict[mol_2]}')\n",
    "        ij += 1"
   ]
  },
  {
   "cell_type": "code",
   "execution_count": null,
   "id": "df818a8b",
   "metadata": {},
   "outputs": [],
   "source": [
    "# create figure for comparing the kbi methods\n",
    "fig, ax = plt.subplots(nrow=1, ncol=len(kbi_methods), figsize=(12, 3.5), sharex=True, sharey=True)\n",
    "colors = plt.cm.jet(np.linspace(0,1,len(self.kbi_model._top_unique_mols)+1))\n",
    "\n",
    "for m, method in enumerate(kbi_methods):\n",
    "  ax[m].set_title(f'KBI Method: {method}')\n",
    "  add_kbi_method_to_plot(method, ax[m])\n",
    "  ax[m].set_xlabel(f'${x_lab}_{{{kbi_dict['adj'].solute_name}}}$')\n",
    "\n",
    "ax[0].legend(fontsize=11, labelspacing=0.5, frameon=True, edgecolor='k', framealpha=0.5)\n",
    "ax[0].set_xlim(-0.05, 1.05)\n",
    "ax[0].set_xticks(ticks=np.arange(0,1.1,0.1))\n",
    "ax[0].set_ylabel(f'$G_{{ij}}^{{\\infty}}$ [cm$^3$ mol$^{{-1}}$]')"
   ]
  }
 ],
 "metadata": {
  "kernelspec": {
   "display_name": "picmol",
   "language": "python",
   "name": "python3"
  },
  "language_info": {
   "codemirror_mode": {
    "name": "ipython",
    "version": 3
   },
   "file_extension": ".py",
   "mimetype": "text/x-python",
   "name": "python",
   "nbconvert_exporter": "python",
   "pygments_lexer": "ipython3",
   "version": "3.10.16"
  }
 },
 "nbformat": 4,
 "nbformat_minor": 5
}
